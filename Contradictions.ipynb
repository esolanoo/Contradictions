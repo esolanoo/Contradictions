{
  "cells": [
    {
      "cell_type": "markdown",
      "metadata": {
        "id": "view-in-github",
        "colab_type": "text"
      },
      "source": [
        "<a href=\"https://colab.research.google.com/github/esolanoo/Contradictions/blob/main/Contradictions.ipynb\" target=\"_parent\"><img src=\"https://colab.research.google.com/assets/colab-badge.svg\" alt=\"Open In Colab\"/></a>"
      ]
    },
    {
      "cell_type": "markdown",
      "source": [
        "> Due to the nature of keras-text, keras-nlp does not run on windows. The following file was made in and designed to be run in Colab"
      ],
      "metadata": {
        "id": "iaxDyGaw0rfC"
      }
    },
    {
      "cell_type": "code",
      "source": [
        "!pip install -q --upgrade keras-nlp\n",
        "!pip install -q --upgrade keras"
      ],
      "metadata": {
        "colab": {
          "base_uri": "https://localhost:8080/"
        },
        "id": "YLazbv-10c75",
        "outputId": "d540dd1d-0ecf-4c96-b866-c65525f9c624"
      },
      "execution_count": 2,
      "outputs": [
        {
          "output_type": "stream",
          "name": "stdout",
          "text": [
            "\u001b[2K   \u001b[90m━━━━━━━━━━━━━━━━━━━━━━━━━━━━━━━━━━━━━━━━\u001b[0m \u001b[32m548.4/548.4 kB\u001b[0m \u001b[31m9.8 MB/s\u001b[0m eta \u001b[36m0:00:00\u001b[0m\n",
            "\u001b[2K   \u001b[90m━━━━━━━━━━━━━━━━━━━━━━━━━━━━━━━━━━━━━━━━\u001b[0m \u001b[32m5.2/5.2 MB\u001b[0m \u001b[31m60.5 MB/s\u001b[0m eta \u001b[36m0:00:00\u001b[0m\n",
            "\u001b[2K   \u001b[90m━━━━━━━━━━━━━━━━━━━━━━━━━━━━━━━━━━━━━━━━\u001b[0m \u001b[32m1.2/1.2 MB\u001b[0m \u001b[31m15.4 MB/s\u001b[0m eta \u001b[36m0:00:00\u001b[0m\n",
            "\u001b[?25h"
          ]
        }
      ]
    },
    {
      "cell_type": "code",
      "execution_count": 3,
      "metadata": {
        "id": "VjJ2pD8-0Xkd"
      },
      "outputs": [],
      "source": [
        "import pandas as pd\n",
        "import keras_nlp\n",
        "import keras"
      ]
    },
    {
      "cell_type": "code",
      "execution_count": null,
      "metadata": {
        "id": "svx-Nvak0Xke",
        "outputId": "be69d12f-5c84-422e-a992-8a03ddef58df"
      },
      "outputs": [
        {
          "data": {
            "text/html": [
              "<div>\n",
              "<style scoped>\n",
              "    .dataframe tbody tr th:only-of-type {\n",
              "        vertical-align: middle;\n",
              "    }\n",
              "\n",
              "    .dataframe tbody tr th {\n",
              "        vertical-align: top;\n",
              "    }\n",
              "\n",
              "    .dataframe thead th {\n",
              "        text-align: right;\n",
              "    }\n",
              "</style>\n",
              "<table border=\"1\" class=\"dataframe\">\n",
              "  <thead>\n",
              "    <tr style=\"text-align: right;\">\n",
              "      <th></th>\n",
              "      <th>id</th>\n",
              "      <th>premise</th>\n",
              "      <th>hypothesis</th>\n",
              "      <th>lang_abv</th>\n",
              "      <th>language</th>\n",
              "      <th>label</th>\n",
              "    </tr>\n",
              "  </thead>\n",
              "  <tbody>\n",
              "    <tr>\n",
              "      <th>1784</th>\n",
              "      <td>7050b19dec</td>\n",
              "      <td>Agricultural shows</td>\n",
              "      <td>Farm performances</td>\n",
              "      <td>en</td>\n",
              "      <td>English</td>\n",
              "      <td>0</td>\n",
              "    </tr>\n",
              "    <tr>\n",
              "      <th>12031</th>\n",
              "      <td>06923baffb</td>\n",
              "      <td>لقد جلسوا أمام أجهزة الكمبيوتر الطرفية وكانوا ...</td>\n",
              "      <td>كتبوا في الأرقام.</td>\n",
              "      <td>ar</td>\n",
              "      <td>Arabic</td>\n",
              "      <td>0</td>\n",
              "    </tr>\n",
              "    <tr>\n",
              "      <th>2125</th>\n",
              "      <td>75a4bb5925</td>\n",
              "      <td>On Menorca, search for more elusive prehistori...</td>\n",
              "      <td>Menorca is home to several well-hidden prehist...</td>\n",
              "      <td>en</td>\n",
              "      <td>English</td>\n",
              "      <td>0</td>\n",
              "    </tr>\n",
              "    <tr>\n",
              "      <th>10388</th>\n",
              "      <td>97ab94c266</td>\n",
              "      <td>The analysis presented here is an attempt to a...</td>\n",
              "      <td>Nobody has attempted to address the second arg...</td>\n",
              "      <td>en</td>\n",
              "      <td>English</td>\n",
              "      <td>2</td>\n",
              "    </tr>\n",
              "    <tr>\n",
              "      <th>10178</th>\n",
              "      <td>df272e2a02</td>\n",
              "      <td>Kelele ya kweli huwavutia vijana na hutia hofu...</td>\n",
              "      <td>Wazee hawapendi kelele kwasababu hawawezi kudh...</td>\n",
              "      <td>sw</td>\n",
              "      <td>Swahili</td>\n",
              "      <td>1</td>\n",
              "    </tr>\n",
              "  </tbody>\n",
              "</table>\n",
              "</div>"
            ],
            "text/plain": [
              "               id                                            premise  \\\n",
              "1784   7050b19dec                                 Agricultural shows   \n",
              "12031  06923baffb  لقد جلسوا أمام أجهزة الكمبيوتر الطرفية وكانوا ...   \n",
              "2125   75a4bb5925  On Menorca, search for more elusive prehistori...   \n",
              "10388  97ab94c266  The analysis presented here is an attempt to a...   \n",
              "10178  df272e2a02  Kelele ya kweli huwavutia vijana na hutia hofu...   \n",
              "\n",
              "                                              hypothesis lang_abv language  \\\n",
              "1784                                   Farm performances       en  English   \n",
              "12031                                  كتبوا في الأرقام.       ar   Arabic   \n",
              "2125   Menorca is home to several well-hidden prehist...       en  English   \n",
              "10388  Nobody has attempted to address the second arg...       en  English   \n",
              "10178  Wazee hawapendi kelele kwasababu hawawezi kudh...       sw  Swahili   \n",
              "\n",
              "       label  \n",
              "1784       0  \n",
              "12031      0  \n",
              "2125       0  \n",
              "10388      2  \n",
              "10178      1  "
            ]
          },
          "execution_count": 4,
          "metadata": {},
          "output_type": "execute_result"
        }
      ],
      "source": [
        "data = pd.read_csv('train.csv')\n",
        "data.sample(5)"
      ]
    }
  ],
  "metadata": {
    "kernelspec": {
      "display_name": "Python 3",
      "language": "python",
      "name": "python3"
    },
    "language_info": {
      "codemirror_mode": {
        "name": "ipython",
        "version": 3
      },
      "file_extension": ".py",
      "mimetype": "text/x-python",
      "name": "python",
      "nbconvert_exporter": "python",
      "pygments_lexer": "ipython3",
      "version": "3.11.9"
    },
    "colab": {
      "provenance": [],
      "include_colab_link": true
    }
  },
  "nbformat": 4,
  "nbformat_minor": 0
}