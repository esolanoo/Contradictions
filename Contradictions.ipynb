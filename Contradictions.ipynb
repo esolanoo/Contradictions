{
 "cells": [
  {
   "cell_type": "code",
   "execution_count": 3,
   "metadata": {},
   "outputs": [
    {
     "ename": "AttributeError",
     "evalue": "module 'keras_nlp' has no attribute 'models'",
     "output_type": "error",
     "traceback": [
      "\u001b[1;31m---------------------------------------------------------------------------\u001b[0m",
      "\u001b[1;31mAttributeError\u001b[0m                            Traceback (most recent call last)",
      "Cell \u001b[1;32mIn[3], line 5\u001b[0m\n\u001b[0;32m      2\u001b[0m \u001b[38;5;28;01mimport\u001b[39;00m \u001b[38;5;21;01mkeras_nlp\u001b[39;00m\n\u001b[0;32m      3\u001b[0m \u001b[38;5;28;01mimport\u001b[39;00m \u001b[38;5;21;01mkeras\u001b[39;00m\n\u001b[1;32m----> 5\u001b[0m classifier \u001b[38;5;241m=\u001b[39m \u001b[43mkeras_nlp\u001b[49m\u001b[38;5;241;43m.\u001b[39;49m\u001b[43mmodels\u001b[49m\u001b[38;5;241m.\u001b[39mBertClassifier\u001b[38;5;241m.\u001b[39mfrom_preset(\u001b[38;5;124m\"\u001b[39m\u001b[38;5;124mbert_tiny_en_uncased_sst2\u001b[39m\u001b[38;5;124m\"\u001b[39m)\n",
      "\u001b[1;31mAttributeError\u001b[0m: module 'keras_nlp' has no attribute 'models'"
     ]
    }
   ],
   "source": [
    "import pandas as pd\n",
    "import keras_nlp\n",
    "import keras\n",
    "\n",
    "classifier = keras_nlp.models.BertClassifier.from_preset(\"bert_tiny_en_uncased_sst2\")"
   ]
  },
  {
   "cell_type": "code",
   "execution_count": 4,
   "metadata": {},
   "outputs": [
    {
     "data": {
      "text/html": [
       "<div>\n",
       "<style scoped>\n",
       "    .dataframe tbody tr th:only-of-type {\n",
       "        vertical-align: middle;\n",
       "    }\n",
       "\n",
       "    .dataframe tbody tr th {\n",
       "        vertical-align: top;\n",
       "    }\n",
       "\n",
       "    .dataframe thead th {\n",
       "        text-align: right;\n",
       "    }\n",
       "</style>\n",
       "<table border=\"1\" class=\"dataframe\">\n",
       "  <thead>\n",
       "    <tr style=\"text-align: right;\">\n",
       "      <th></th>\n",
       "      <th>id</th>\n",
       "      <th>premise</th>\n",
       "      <th>hypothesis</th>\n",
       "      <th>lang_abv</th>\n",
       "      <th>language</th>\n",
       "      <th>label</th>\n",
       "    </tr>\n",
       "  </thead>\n",
       "  <tbody>\n",
       "    <tr>\n",
       "      <th>1784</th>\n",
       "      <td>7050b19dec</td>\n",
       "      <td>Agricultural shows</td>\n",
       "      <td>Farm performances</td>\n",
       "      <td>en</td>\n",
       "      <td>English</td>\n",
       "      <td>0</td>\n",
       "    </tr>\n",
       "    <tr>\n",
       "      <th>12031</th>\n",
       "      <td>06923baffb</td>\n",
       "      <td>لقد جلسوا أمام أجهزة الكمبيوتر الطرفية وكانوا ...</td>\n",
       "      <td>كتبوا في الأرقام.</td>\n",
       "      <td>ar</td>\n",
       "      <td>Arabic</td>\n",
       "      <td>0</td>\n",
       "    </tr>\n",
       "    <tr>\n",
       "      <th>2125</th>\n",
       "      <td>75a4bb5925</td>\n",
       "      <td>On Menorca, search for more elusive prehistori...</td>\n",
       "      <td>Menorca is home to several well-hidden prehist...</td>\n",
       "      <td>en</td>\n",
       "      <td>English</td>\n",
       "      <td>0</td>\n",
       "    </tr>\n",
       "    <tr>\n",
       "      <th>10388</th>\n",
       "      <td>97ab94c266</td>\n",
       "      <td>The analysis presented here is an attempt to a...</td>\n",
       "      <td>Nobody has attempted to address the second arg...</td>\n",
       "      <td>en</td>\n",
       "      <td>English</td>\n",
       "      <td>2</td>\n",
       "    </tr>\n",
       "    <tr>\n",
       "      <th>10178</th>\n",
       "      <td>df272e2a02</td>\n",
       "      <td>Kelele ya kweli huwavutia vijana na hutia hofu...</td>\n",
       "      <td>Wazee hawapendi kelele kwasababu hawawezi kudh...</td>\n",
       "      <td>sw</td>\n",
       "      <td>Swahili</td>\n",
       "      <td>1</td>\n",
       "    </tr>\n",
       "  </tbody>\n",
       "</table>\n",
       "</div>"
      ],
      "text/plain": [
       "               id                                            premise  \\\n",
       "1784   7050b19dec                                 Agricultural shows   \n",
       "12031  06923baffb  لقد جلسوا أمام أجهزة الكمبيوتر الطرفية وكانوا ...   \n",
       "2125   75a4bb5925  On Menorca, search for more elusive prehistori...   \n",
       "10388  97ab94c266  The analysis presented here is an attempt to a...   \n",
       "10178  df272e2a02  Kelele ya kweli huwavutia vijana na hutia hofu...   \n",
       "\n",
       "                                              hypothesis lang_abv language  \\\n",
       "1784                                   Farm performances       en  English   \n",
       "12031                                  كتبوا في الأرقام.       ar   Arabic   \n",
       "2125   Menorca is home to several well-hidden prehist...       en  English   \n",
       "10388  Nobody has attempted to address the second arg...       en  English   \n",
       "10178  Wazee hawapendi kelele kwasababu hawawezi kudh...       sw  Swahili   \n",
       "\n",
       "       label  \n",
       "1784       0  \n",
       "12031      0  \n",
       "2125       0  \n",
       "10388      2  \n",
       "10178      1  "
      ]
     },
     "execution_count": 4,
     "metadata": {},
     "output_type": "execute_result"
    }
   ],
   "source": [
    "data = pd.read_csv('train.csv')\n",
    "data.sample(5)"
   ]
  }
 ],
 "metadata": {
  "kernelspec": {
   "display_name": "Python 3",
   "language": "python",
   "name": "python3"
  },
  "language_info": {
   "codemirror_mode": {
    "name": "ipython",
    "version": 3
   },
   "file_extension": ".py",
   "mimetype": "text/x-python",
   "name": "python",
   "nbconvert_exporter": "python",
   "pygments_lexer": "ipython3",
   "version": "3.11.9"
  }
 },
 "nbformat": 4,
 "nbformat_minor": 2
}
